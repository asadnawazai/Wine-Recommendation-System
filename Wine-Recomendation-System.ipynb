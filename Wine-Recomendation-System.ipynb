{
 "cells": [
  {
   "cell_type": "code",
   "execution_count": 21,
   "id": "fe20640c-0f94-4b72-b385-a34e96636f39",
   "metadata": {},
   "outputs": [],
   "source": [
    "import numpy as np \n",
    "import pandas as pd\n",
    "import seaborn as sns\n",
    "import matplotlib.pyplot as plt"
   ]
  },
  {
   "cell_type": "code",
   "execution_count": 22,
   "id": "be811a86-7784-4c01-9796-85e0b9ea0e95",
   "metadata": {},
   "outputs": [],
   "source": [
    "data = pd.read_csv('Wine & Food - Sheet1.csv')"
   ]
  },
  {
   "cell_type": "code",
   "execution_count": 23,
   "id": "aba65648-d7ae-41ef-912c-1093eb722a56",
   "metadata": {},
   "outputs": [
    {
     "data": {
      "text/html": [
       "<div>\n",
       "<style scoped>\n",
       "    .dataframe tbody tr th:only-of-type {\n",
       "        vertical-align: middle;\n",
       "    }\n",
       "\n",
       "    .dataframe tbody tr th {\n",
       "        vertical-align: top;\n",
       "    }\n",
       "\n",
       "    .dataframe thead th {\n",
       "        text-align: right;\n",
       "    }\n",
       "</style>\n",
       "<table border=\"1\" class=\"dataframe\">\n",
       "  <thead>\n",
       "    <tr style=\"text-align: right;\">\n",
       "      <th></th>\n",
       "      <th>Dish Name</th>\n",
       "      <th>Ingredients</th>\n",
       "      <th>Cooking Style</th>\n",
       "      <th>Flavors</th>\n",
       "      <th>Texture</th>\n",
       "      <th>Wine Name</th>\n",
       "      <th>Wine Body</th>\n",
       "      <th>Wine Sweetness</th>\n",
       "      <th>Wine Acidity</th>\n",
       "      <th>Wine Tannins</th>\n",
       "      <th>Pairing Score</th>\n",
       "    </tr>\n",
       "  </thead>\n",
       "  <tbody>\n",
       "    <tr>\n",
       "      <th>0</th>\n",
       "      <td>Grilled Steak</td>\n",
       "      <td>Beef, Salt, Pepper, Garlic</td>\n",
       "      <td>Grilled</td>\n",
       "      <td>Savory, Umami</td>\n",
       "      <td>Tender</td>\n",
       "      <td>Cabernet Sauvignon</td>\n",
       "      <td>Full</td>\n",
       "      <td>Dry</td>\n",
       "      <td>Medium</td>\n",
       "      <td>High</td>\n",
       "      <td>9</td>\n",
       "    </tr>\n",
       "    <tr>\n",
       "      <th>1</th>\n",
       "      <td>Spaghetti Carbonara</td>\n",
       "      <td>Pasta, Egg, Bacon, Parmesan</td>\n",
       "      <td>Boiled</td>\n",
       "      <td>Creamy, Salty</td>\n",
       "      <td>Creamy</td>\n",
       "      <td>Chardonnay</td>\n",
       "      <td>Medium</td>\n",
       "      <td>Dry</td>\n",
       "      <td>High</td>\n",
       "      <td>Low</td>\n",
       "      <td>8</td>\n",
       "    </tr>\n",
       "    <tr>\n",
       "      <th>2</th>\n",
       "      <td>Caesar Salad</td>\n",
       "      <td>Romaine, Croutons, Parmesan, Anchovy</td>\n",
       "      <td>Fresh</td>\n",
       "      <td>Salty, Tangy</td>\n",
       "      <td>Crunchy</td>\n",
       "      <td>Sauvignon Blanc</td>\n",
       "      <td>Light</td>\n",
       "      <td>Dry</td>\n",
       "      <td>High</td>\n",
       "      <td>Low</td>\n",
       "      <td>7</td>\n",
       "    </tr>\n",
       "    <tr>\n",
       "      <th>3</th>\n",
       "      <td>Roasted Salmon</td>\n",
       "      <td>Salmon, Lemon, Dill, Olive Oil</td>\n",
       "      <td>Roasted</td>\n",
       "      <td>Citrusy, Savory</td>\n",
       "      <td>Flaky</td>\n",
       "      <td>Pinot Noir</td>\n",
       "      <td>Light</td>\n",
       "      <td>Dry</td>\n",
       "      <td>Medium</td>\n",
       "      <td>Medium</td>\n",
       "      <td>8</td>\n",
       "    </tr>\n",
       "    <tr>\n",
       "      <th>4</th>\n",
       "      <td>Chicken Alfredo</td>\n",
       "      <td>Chicken, Cream, Butter, Parmesan</td>\n",
       "      <td>Creamy</td>\n",
       "      <td>Rich, Savory</td>\n",
       "      <td>Creamy</td>\n",
       "      <td>Chardonnay</td>\n",
       "      <td>Full</td>\n",
       "      <td>Dry</td>\n",
       "      <td>Medium</td>\n",
       "      <td>Low</td>\n",
       "      <td>9</td>\n",
       "    </tr>\n",
       "  </tbody>\n",
       "</table>\n",
       "</div>"
      ],
      "text/plain": [
       "             Dish Name                           Ingredients Cooking Style  \\\n",
       "0        Grilled Steak            Beef, Salt, Pepper, Garlic       Grilled   \n",
       "1  Spaghetti Carbonara           Pasta, Egg, Bacon, Parmesan        Boiled   \n",
       "2         Caesar Salad  Romaine, Croutons, Parmesan, Anchovy         Fresh   \n",
       "3       Roasted Salmon        Salmon, Lemon, Dill, Olive Oil       Roasted   \n",
       "4      Chicken Alfredo      Chicken, Cream, Butter, Parmesan        Creamy   \n",
       "\n",
       "           Flavors  Texture           Wine Name Wine Body Wine Sweetness  \\\n",
       "0    Savory, Umami   Tender  Cabernet Sauvignon      Full            Dry   \n",
       "1    Creamy, Salty   Creamy          Chardonnay    Medium            Dry   \n",
       "2     Salty, Tangy  Crunchy     Sauvignon Blanc     Light            Dry   \n",
       "3  Citrusy, Savory    Flaky          Pinot Noir     Light            Dry   \n",
       "4     Rich, Savory   Creamy          Chardonnay      Full            Dry   \n",
       "\n",
       "  Wine Acidity Wine Tannins  Pairing Score  \n",
       "0       Medium         High              9  \n",
       "1         High          Low              8  \n",
       "2         High          Low              7  \n",
       "3       Medium       Medium              8  \n",
       "4       Medium          Low              9  "
      ]
     },
     "execution_count": 23,
     "metadata": {},
     "output_type": "execute_result"
    }
   ],
   "source": [
    "data.head()"
   ]
  },
  {
   "cell_type": "code",
   "execution_count": 24,
   "id": "da5a9653-84a4-40c6-8673-939b30f28437",
   "metadata": {},
   "outputs": [
    {
     "data": {
      "text/plain": [
       "(8, 11)"
      ]
     },
     "execution_count": 24,
     "metadata": {},
     "output_type": "execute_result"
    }
   ],
   "source": [
    "data.shape"
   ]
  },
  {
   "cell_type": "code",
   "execution_count": 25,
   "id": "3701335d-b6a2-43b8-a3ed-1ebed6220efa",
   "metadata": {},
   "outputs": [
    {
     "name": "stdout",
     "output_type": "stream",
     "text": [
      "<class 'pandas.core.frame.DataFrame'>\n",
      "RangeIndex: 8 entries, 0 to 7\n",
      "Data columns (total 11 columns):\n",
      " #   Column          Non-Null Count  Dtype \n",
      "---  ------          --------------  ----- \n",
      " 0   Dish Name       8 non-null      object\n",
      " 1   Ingredients     8 non-null      object\n",
      " 2   Cooking Style   8 non-null      object\n",
      " 3   Flavors         8 non-null      object\n",
      " 4   Texture         8 non-null      object\n",
      " 5   Wine Name       8 non-null      object\n",
      " 6   Wine Body       8 non-null      object\n",
      " 7   Wine Sweetness  8 non-null      object\n",
      " 8   Wine Acidity    8 non-null      object\n",
      " 9   Wine Tannins    8 non-null      object\n",
      " 10  Pairing Score   8 non-null      int64 \n",
      "dtypes: int64(1), object(10)\n",
      "memory usage: 836.0+ bytes\n"
     ]
    }
   ],
   "source": [
    "data.info()"
   ]
  },
  {
   "cell_type": "code",
   "execution_count": 26,
   "id": "cf81acbf-b94e-499a-b1a2-855f910c7530",
   "metadata": {},
   "outputs": [
    {
     "data": {
      "text/plain": [
       "0"
      ]
     },
     "execution_count": 26,
     "metadata": {},
     "output_type": "execute_result"
    }
   ],
   "source": [
    "data.duplicated().sum()"
   ]
  },
  {
   "cell_type": "code",
   "execution_count": 27,
   "id": "c4e86157-6692-4db3-923c-ce7b6e78d7f4",
   "metadata": {},
   "outputs": [],
   "source": [
    "from sklearn.model_selection import train_test_split\n",
    "from sklearn.preprocessing import OneHotEncoder\n",
    "from sklearn.compose import ColumnTransformer\n",
    "from sklearn.ensemble import RandomForestClassifier\n",
    "import joblib"
   ]
  },
  {
   "cell_type": "code",
   "execution_count": 28,
   "id": "8b59f3af-2413-42f6-aff3-4486794a42de",
   "metadata": {},
   "outputs": [],
   "source": [
    "# Define features and target\n",
    "features = data[['Dish Name', 'Ingredients', 'Cooking Style', 'Flavors', 'Texture']]\n",
    "target = data['Wine Name']  # Predicting the wine name"
   ]
  },
  {
   "cell_type": "code",
   "execution_count": 29,
   "id": "7120a30b-7820-4413-8f89-e4c6d47eed9f",
   "metadata": {},
   "outputs": [
    {
     "data": {
      "text/html": [
       "<div>\n",
       "<style scoped>\n",
       "    .dataframe tbody tr th:only-of-type {\n",
       "        vertical-align: middle;\n",
       "    }\n",
       "\n",
       "    .dataframe tbody tr th {\n",
       "        vertical-align: top;\n",
       "    }\n",
       "\n",
       "    .dataframe thead th {\n",
       "        text-align: right;\n",
       "    }\n",
       "</style>\n",
       "<table border=\"1\" class=\"dataframe\">\n",
       "  <thead>\n",
       "    <tr style=\"text-align: right;\">\n",
       "      <th></th>\n",
       "      <th>Dish Name</th>\n",
       "      <th>Ingredients</th>\n",
       "      <th>Cooking Style</th>\n",
       "      <th>Flavors</th>\n",
       "      <th>Texture</th>\n",
       "    </tr>\n",
       "  </thead>\n",
       "  <tbody>\n",
       "    <tr>\n",
       "      <th>0</th>\n",
       "      <td>Grilled Steak</td>\n",
       "      <td>Beef, Salt, Pepper, Garlic</td>\n",
       "      <td>Grilled</td>\n",
       "      <td>Savory, Umami</td>\n",
       "      <td>Tender</td>\n",
       "    </tr>\n",
       "    <tr>\n",
       "      <th>1</th>\n",
       "      <td>Spaghetti Carbonara</td>\n",
       "      <td>Pasta, Egg, Bacon, Parmesan</td>\n",
       "      <td>Boiled</td>\n",
       "      <td>Creamy, Salty</td>\n",
       "      <td>Creamy</td>\n",
       "    </tr>\n",
       "    <tr>\n",
       "      <th>2</th>\n",
       "      <td>Caesar Salad</td>\n",
       "      <td>Romaine, Croutons, Parmesan, Anchovy</td>\n",
       "      <td>Fresh</td>\n",
       "      <td>Salty, Tangy</td>\n",
       "      <td>Crunchy</td>\n",
       "    </tr>\n",
       "    <tr>\n",
       "      <th>3</th>\n",
       "      <td>Roasted Salmon</td>\n",
       "      <td>Salmon, Lemon, Dill, Olive Oil</td>\n",
       "      <td>Roasted</td>\n",
       "      <td>Citrusy, Savory</td>\n",
       "      <td>Flaky</td>\n",
       "    </tr>\n",
       "    <tr>\n",
       "      <th>4</th>\n",
       "      <td>Chicken Alfredo</td>\n",
       "      <td>Chicken, Cream, Butter, Parmesan</td>\n",
       "      <td>Creamy</td>\n",
       "      <td>Rich, Savory</td>\n",
       "      <td>Creamy</td>\n",
       "    </tr>\n",
       "    <tr>\n",
       "      <th>5</th>\n",
       "      <td>Margherita Pizza</td>\n",
       "      <td>Tomato, Mozzarella, Basil</td>\n",
       "      <td>Baked</td>\n",
       "      <td>Savory, Herby</td>\n",
       "      <td>Crispy</td>\n",
       "    </tr>\n",
       "    <tr>\n",
       "      <th>6</th>\n",
       "      <td>Shrimp Tacos</td>\n",
       "      <td>Shrimp, Lime, Cilantro, Avocado</td>\n",
       "      <td>Grilled</td>\n",
       "      <td>Spicy, Citrusy</td>\n",
       "      <td>Crunchy</td>\n",
       "    </tr>\n",
       "    <tr>\n",
       "      <th>7</th>\n",
       "      <td>Dark Chocolate Cake</td>\n",
       "      <td>Cocoa, Sugar, Butter</td>\n",
       "      <td>Baked</td>\n",
       "      <td>Sweet, Rich</td>\n",
       "      <td>Dense</td>\n",
       "    </tr>\n",
       "  </tbody>\n",
       "</table>\n",
       "</div>"
      ],
      "text/plain": [
       "             Dish Name                           Ingredients Cooking Style  \\\n",
       "0        Grilled Steak            Beef, Salt, Pepper, Garlic       Grilled   \n",
       "1  Spaghetti Carbonara           Pasta, Egg, Bacon, Parmesan        Boiled   \n",
       "2         Caesar Salad  Romaine, Croutons, Parmesan, Anchovy         Fresh   \n",
       "3       Roasted Salmon        Salmon, Lemon, Dill, Olive Oil       Roasted   \n",
       "4      Chicken Alfredo      Chicken, Cream, Butter, Parmesan        Creamy   \n",
       "5     Margherita Pizza             Tomato, Mozzarella, Basil         Baked   \n",
       "6         Shrimp Tacos       Shrimp, Lime, Cilantro, Avocado       Grilled   \n",
       "7  Dark Chocolate Cake                  Cocoa, Sugar, Butter         Baked   \n",
       "\n",
       "           Flavors  Texture  \n",
       "0    Savory, Umami   Tender  \n",
       "1    Creamy, Salty   Creamy  \n",
       "2     Salty, Tangy  Crunchy  \n",
       "3  Citrusy, Savory    Flaky  \n",
       "4     Rich, Savory   Creamy  \n",
       "5    Savory, Herby   Crispy  \n",
       "6   Spicy, Citrusy  Crunchy  \n",
       "7      Sweet, Rich    Dense  "
      ]
     },
     "execution_count": 29,
     "metadata": {},
     "output_type": "execute_result"
    }
   ],
   "source": [
    "features"
   ]
  },
  {
   "cell_type": "code",
   "execution_count": 30,
   "id": "b00d9c19-9205-47f8-ac02-05fe5035f263",
   "metadata": {},
   "outputs": [],
   "source": [
    "# Encode categorical features\n",
    "column_transformer = ColumnTransformer(\n",
    "    transformers=[\n",
    "        ('encoder', OneHotEncoder(), ['Dish Name', 'Ingredients', 'Cooking Style', 'Flavors', 'Texture'])\n",
    "    ],\n",
    "    remainder='passthrough'\n",
    ")\n",
    "\n",
    "features_encoded = column_transformer.fit_transform(features)"
   ]
  },
  {
   "cell_type": "code",
   "execution_count": 31,
   "id": "9bff0680-708b-4505-8ae2-8ba94303d7af",
   "metadata": {},
   "outputs": [],
   "source": [
    "# Split the data into training and testing sets\n",
    "X_train, X_test, y_train, y_test = train_test_split(features_encoded, target, test_size=0.2, random_state=42)"
   ]
  },
  {
   "cell_type": "code",
   "execution_count": 32,
   "id": "73025a7a-cbb7-4721-ba53-58ebffed8499",
   "metadata": {},
   "outputs": [],
   "source": [
    "# Train the model\n",
    "model = RandomForestClassifier(n_estimators=100, random_state=42)\n",
    "model.fit(X_train, y_train)\n",
    "y_pred = model.predict(X_test)"
   ]
  },
  {
   "cell_type": "code",
   "execution_count": 33,
   "id": "ec53d8c9-d5e8-4a61-ab8d-491ff6714839",
   "metadata": {},
   "outputs": [
    {
     "data": {
      "text/plain": [
       "['column_transformer.pkl']"
      ]
     },
     "execution_count": 33,
     "metadata": {},
     "output_type": "execute_result"
    }
   ],
   "source": [
    "# Save the trained model and the column transformer\n",
    "joblib.dump(model, 'wine_recommendation_model.pkl')\n",
    "joblib.dump(column_transformer, 'column_transformer.pkl')"
   ]
  },
  {
   "cell_type": "code",
   "execution_count": null,
   "id": "2a0aabc2-3b77-47d3-882e-516321b181be",
   "metadata": {},
   "outputs": [],
   "source": []
  },
  {
   "cell_type": "code",
   "execution_count": null,
   "id": "e14b2162-bc30-4ffe-aeb6-f6f89b4de0e8",
   "metadata": {},
   "outputs": [],
   "source": []
  },
  {
   "cell_type": "code",
   "execution_count": null,
   "id": "75138408-a32c-4f39-bc9b-19696fb457da",
   "metadata": {},
   "outputs": [],
   "source": []
  }
 ],
 "metadata": {
  "kernelspec": {
   "display_name": "Python 3 (ipykernel)",
   "language": "python",
   "name": "python3"
  },
  "language_info": {
   "codemirror_mode": {
    "name": "ipython",
    "version": 3
   },
   "file_extension": ".py",
   "mimetype": "text/x-python",
   "name": "python",
   "nbconvert_exporter": "python",
   "pygments_lexer": "ipython3",
   "version": "3.12.4"
  }
 },
 "nbformat": 4,
 "nbformat_minor": 5
}
